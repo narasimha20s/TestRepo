{
 "cells": [
  {
   "cell_type": "markdown",
   "id": "f409feb5-f9ba-4d42-9e77-cfee79968598",
   "metadata": {},
   "source": [
    "# Data Science Tools and Ecosystem"
   ]
  },
  {
   "cell_type": "markdown",
   "id": "62e1d86e-dc7f-4d03-8698-0f77bfb74d76",
   "metadata": {},
   "source": [
    "In this notebook, Data Science Tools and Ecosystem are summarized."
   ]
  },
  {
   "cell_type": "markdown",
   "id": "e13f2f19-f502-4b6e-8657-58c9b66968ef",
   "metadata": {},
   "source": [
    "Some fo the popular languages that Data Scientists use are:\n",
    "1. Julia\n",
    "2. Python\n",
    "3. R programming"
   ]
  },
  {
   "cell_type": "markdown",
   "id": "9f2a87f0-5184-4245-b210-b381e124f5d0",
   "metadata": {},
   "source": [
    "Some of the commonly used libraries used by Data Scientists include:\n",
    "1. Pandas\n",
    "2. NumPy\n",
    "3. Scikit-learn"
   ]
  },
  {
   "cell_type": "markdown",
   "id": "d4890942-890a-4e6d-9f75-59466308bede",
   "metadata": {},
   "source": [
    "|Data Science Tools|\n",
    "|------------------|\n",
    "|Jupyter Notebook|\n",
    "|Anaconda|\n",
    "|R Studio|"
   ]
  },
  {
   "cell_type": "markdown",
   "id": "1a94df7c-e644-410f-9292-a51e1bce0625",
   "metadata": {},
   "source": [
    "### Below are a few examples of evaluating arithmetic expressions in python"
   ]
  },
  {
   "cell_type": "markdown",
   "id": "78914e50-ff08-4998-8516-e28136aa21ea",
   "metadata": {},
   "source": [
    "#This is simple arithmetic expression to mutiply then add integers"
   ]
  },
  {
   "cell_type": "code",
   "execution_count": 4,
   "id": "a8bb3daa-855e-4625-9143-46bf03c48c82",
   "metadata": {},
   "outputs": [
    {
     "data": {
      "text/plain": [
       "17"
      ]
     },
     "execution_count": 4,
     "metadata": {},
     "output_type": "execute_result"
    }
   ],
   "source": [
    "(3*4)+5"
   ]
  },
  {
   "cell_type": "code",
   "execution_count": null,
   "id": "174888ff-3a3f-4181-bb81-5a883d03cf59",
   "metadata": {},
   "outputs": [],
   "source": [
    "#This will convert 200 minutes to hours by dividing by 60"
   ]
  },
  {
   "cell_type": "code",
   "execution_count": 5,
   "id": "2cc948dc-cd4c-4b85-b773-87f816281b80",
   "metadata": {},
   "outputs": [
    {
     "data": {
      "text/plain": [
       "3.3333333333333335"
      ]
     },
     "execution_count": 5,
     "metadata": {},
     "output_type": "execute_result"
    }
   ],
   "source": [
    "200/60"
   ]
  },
  {
   "cell_type": "markdown",
   "id": "e43da670-a8a4-4734-965e-be85fa13a14a",
   "metadata": {},
   "source": [
    "**Objectives:** List popular languages for Data Science\n",
    "- Python\n",
    "- R programing\n",
    "- Julia\n",
    "- Scala\n",
    "- SAS"
   ]
  },
  {
   "cell_type": "markdown",
   "id": "71c619e8-cecb-4b09-b1f5-5b5e125f90b6",
   "metadata": {},
   "source": [
    "## Author\n",
    "S P NARASIMHA PRASAD"
   ]
  },
  {
   "cell_type": "code",
   "execution_count": null,
   "id": "9b6c26e4-7db6-4cf8-902e-ffbf651e0ee0",
   "metadata": {},
   "outputs": [],
   "source": []
  }
 ],
 "metadata": {
  "kernelspec": {
   "display_name": "Python [conda env:RP_Env]",
   "language": "python",
   "name": "conda-env-RP_Env-py"
  },
  "language_info": {
   "codemirror_mode": {
    "name": "ipython",
    "version": 3
   },
   "file_extension": ".py",
   "mimetype": "text/x-python",
   "name": "python",
   "nbconvert_exporter": "python",
   "pygments_lexer": "ipython3",
   "version": "3.13.5"
  }
 },
 "nbformat": 4,
 "nbformat_minor": 5
}
